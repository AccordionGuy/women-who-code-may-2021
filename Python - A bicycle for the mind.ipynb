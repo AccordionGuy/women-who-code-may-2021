{
 "cells": [
  {
   "cell_type": "markdown",
   "metadata": {},
   "source": [
    "![](./images/python--a-bicycle-for-the-mind.jpg)"
   ]
  },
  {
   "cell_type": "markdown",
   "metadata": {},
   "source": [
    "# If you’re still feeling like a newbie...\n",
    "\n",
    "![“Hello” nametag, with “I’m new here” written in the space for the name](./images/hello-im-new-here.jpg)\n",
    "\n",
    "...don’t worry. **We’re *all* new here.**"
   ]
  },
  {
   "cell_type": "markdown",
   "metadata": {},
   "source": [
    "# Programming as we know it is only about 70 years old, and it was started by a woman\n",
    "\n",
    "![Women Who Code logo](./images/women-who-code.jpg)\n",
    "\n",
    "This is a **Women Who Code** Meetup, so it’s only fair that I pay tribute to pioneering computer scientist and O.G. Woman Who Codes, U.S. Navy Rear Admiral [**Grace Hopper,**](https://en.wikipedia.org/wiki/Grace_Hopper) pictured below:\n",
    "\n",
    "![Grace Hopper in 1960, sitting at a computer console with a team of three men](./images/grace-hopper.png)\n",
    "<div align=\"center\"><em>This is an unusually diverse group, considering it was taken in 1960.</em></div>\n",
    "\n",
    "* Got a Ph.D in mathematics at Yale, became a math professor at Vassar\n",
    "* Attempted to enist for the Navy in World War II, but was too old (age 34 at the time) and 15 pounds below the minimum weight. Joined the Naval Reserve instead, where she ended up programming the [Mark I computer](https://en.wikipedia.org/wiki/Harvard_Mark_I).\n",
    "* Found the first computer bug:\n",
    "\n",
    "![Moth taped in Grace Hopper’s logbook](./images/first-computer-bug.jpg)\n",
    "\n",
    "\n",
    "* Joined the [Eckert–Mauchly Computer Corporation](https://en.wikipedia.org/wiki/Eckert%E2%80%93Mauchly_Computer_Corporation), where she worked on the [UNIVAC I computer,](https://en.wikipedia.org/wiki/UNIVAC_I) whose console is pictured in the photo above, as well as in this photo:\n",
    "\n",
    "![Univac I console](./images/univac-i.jpg)\n",
    "<div align=\"center\"><em>This is just the front end — the user interface. The back end — the actual computer — took up the rest of the room.</em></div>\n",
    "\n",
    "* At the time, computer science was considered to be a branch of mathematics, and computer scientists thought that programming languages should be mathematical expressions.\n",
    "* Hopper disagreed, saying that programming languages should use English words:\n",
    "\n",
    "![Grace Hopper statement on programming](./images/programming-in-english.png)\n",
    "\n",
    "* It took a couple of years for her idea to gain acceptance, but in the end, it caught on, and COBOL was born. Here’s a sample:\n",
    "\n",
    "![Sample COBOL program](./images/cobol-program.png)"
   ]
  },
  {
   "cell_type": "code",
   "execution_count": 7,
   "metadata": {},
   "outputs": [
    {
     "ename": "KeyboardInterrupt",
     "evalue": "Interrupted by user",
     "output_type": "error",
     "traceback": [
      "\u001b[0;31m---------------------------------------------------------------------------\u001b[0m",
      "\u001b[0;31mKeyboardInterrupt\u001b[0m                         Traceback (most recent call last)",
      "\u001b[0;32m<ipython-input-7-344551c5dda4>\u001b[0m in \u001b[0;36m<module>\u001b[0;34m\u001b[0m\n\u001b[1;32m      1\u001b[0m \u001b[0;31m# This is the Python version of the COBOL program above.\u001b[0m\u001b[0;34m\u001b[0m\u001b[0;34m\u001b[0m\u001b[0;34m\u001b[0m\u001b[0m\n\u001b[1;32m      2\u001b[0m \u001b[0;34m\u001b[0m\u001b[0m\n\u001b[0;32m----> 3\u001b[0;31m \u001b[0mfirst_name\u001b[0m \u001b[0;34m=\u001b[0m \u001b[0minput\u001b[0m\u001b[0;34m(\u001b[0m\u001b[0;34m'What is your first name? : '\u001b[0m\u001b[0;34m)\u001b[0m\u001b[0;34m\u001b[0m\u001b[0;34m\u001b[0m\u001b[0m\n\u001b[0m\u001b[1;32m      4\u001b[0m \u001b[0mlast_name\u001b[0m \u001b[0;34m=\u001b[0m \u001b[0minput\u001b[0m\u001b[0;34m(\u001b[0m\u001b[0;34m'What is your last name? : '\u001b[0m\u001b[0;34m)\u001b[0m\u001b[0;34m\u001b[0m\u001b[0;34m\u001b[0m\u001b[0m\n\u001b[1;32m      5\u001b[0m \u001b[0mage\u001b[0m \u001b[0;34m=\u001b[0m \u001b[0mint\u001b[0m\u001b[0;34m(\u001b[0m\u001b[0minput\u001b[0m\u001b[0;34m(\u001b[0m\u001b[0;34m'What is your age? : '\u001b[0m\u001b[0;34m)\u001b[0m\u001b[0;34m)\u001b[0m\u001b[0;34m\u001b[0m\u001b[0;34m\u001b[0m\u001b[0m\n",
      "\u001b[0;32m~/opt/anaconda3/lib/python3.8/site-packages/ipykernel/kernelbase.py\u001b[0m in \u001b[0;36mraw_input\u001b[0;34m(self, prompt)\u001b[0m\n\u001b[1;32m    858\u001b[0m                 \u001b[0;34m\"raw_input was called, but this frontend does not support input requests.\"\u001b[0m\u001b[0;34m\u001b[0m\u001b[0;34m\u001b[0m\u001b[0m\n\u001b[1;32m    859\u001b[0m             )\n\u001b[0;32m--> 860\u001b[0;31m         return self._input_request(str(prompt),\n\u001b[0m\u001b[1;32m    861\u001b[0m             \u001b[0mself\u001b[0m\u001b[0;34m.\u001b[0m\u001b[0m_parent_ident\u001b[0m\u001b[0;34m,\u001b[0m\u001b[0;34m\u001b[0m\u001b[0;34m\u001b[0m\u001b[0m\n\u001b[1;32m    862\u001b[0m             \u001b[0mself\u001b[0m\u001b[0;34m.\u001b[0m\u001b[0m_parent_header\u001b[0m\u001b[0;34m,\u001b[0m\u001b[0;34m\u001b[0m\u001b[0;34m\u001b[0m\u001b[0m\n",
      "\u001b[0;32m~/opt/anaconda3/lib/python3.8/site-packages/ipykernel/kernelbase.py\u001b[0m in \u001b[0;36m_input_request\u001b[0;34m(self, prompt, ident, parent, password)\u001b[0m\n\u001b[1;32m    902\u001b[0m             \u001b[0;32mexcept\u001b[0m \u001b[0mKeyboardInterrupt\u001b[0m\u001b[0;34m:\u001b[0m\u001b[0;34m\u001b[0m\u001b[0;34m\u001b[0m\u001b[0m\n\u001b[1;32m    903\u001b[0m                 \u001b[0;31m# re-raise KeyboardInterrupt, to truncate traceback\u001b[0m\u001b[0;34m\u001b[0m\u001b[0;34m\u001b[0m\u001b[0;34m\u001b[0m\u001b[0m\n\u001b[0;32m--> 904\u001b[0;31m                 \u001b[0;32mraise\u001b[0m \u001b[0mKeyboardInterrupt\u001b[0m\u001b[0;34m(\u001b[0m\u001b[0;34m\"Interrupted by user\"\u001b[0m\u001b[0;34m)\u001b[0m \u001b[0;32mfrom\u001b[0m \u001b[0;32mNone\u001b[0m\u001b[0;34m\u001b[0m\u001b[0;34m\u001b[0m\u001b[0m\n\u001b[0m\u001b[1;32m    905\u001b[0m             \u001b[0;32mexcept\u001b[0m \u001b[0mException\u001b[0m \u001b[0;32mas\u001b[0m \u001b[0me\u001b[0m\u001b[0;34m:\u001b[0m\u001b[0;34m\u001b[0m\u001b[0;34m\u001b[0m\u001b[0m\n\u001b[1;32m    906\u001b[0m                 \u001b[0mself\u001b[0m\u001b[0;34m.\u001b[0m\u001b[0mlog\u001b[0m\u001b[0;34m.\u001b[0m\u001b[0mwarning\u001b[0m\u001b[0;34m(\u001b[0m\u001b[0;34m\"Invalid Message:\"\u001b[0m\u001b[0;34m,\u001b[0m \u001b[0mexc_info\u001b[0m\u001b[0;34m=\u001b[0m\u001b[0;32mTrue\u001b[0m\u001b[0;34m)\u001b[0m\u001b[0;34m\u001b[0m\u001b[0;34m\u001b[0m\u001b[0m\n",
      "\u001b[0;31mKeyboardInterrupt\u001b[0m: Interrupted by user"
     ]
    }
   ],
   "source": [
    "# This is the Python version of the COBOL program above.\n",
    "\n",
    "first_name = input('What is your first name? : ')\n",
    "last_name = input('What is your last name? : ')\n",
    "age = int(input('What is your age? : '))\n",
    "full_name = f'{first_name} {last_name}'\n",
    "new_age = age + 10\n",
    "print(f'Welcome, {full_name}. In 10 years you will be {new_age}.')\n"
   ]
  },
  {
   "cell_type": "markdown",
   "metadata": {},
   "source": [
    "You may have noticed a number of news stories about COBOL last year:\n",
    "\n",
    "![Coronavirus surrounded by news stories of COBOL Programmer shortage](./images/cobol.png)\n",
    "\n",
    "That’s because at least a dozen U.S. states’ unemployment processing applications are built with COBOL, and most COBOL programmers have either retired or moved on to the Happy Hacking Grounds."
   ]
  },
  {
   "cell_type": "markdown",
   "metadata": {},
   "source": [
    "# These are still the early days\n",
    "\n",
    "In fact, it’s so early that computer programming languages haven’t had *that* much time to evolve.\n",
    "\n",
    "![](./images/time-traveling-programmer-1970.png)\n",
    "\n",
    "In the picture above, Bill Gates is probably programming in the BASIC language. Remember the COBOL program above, which I translated to Python? Here’s the BASIC equivalent:\n",
    "\n",
    "```\n",
    "10 PRINT \"WHAT IS YOUR FIRST NAME? :\";\n",
    "20 INPUT N1$\n",
    "30 PRINT \"WHAT IS YOUR LAST NAME? :\";\n",
    "40 INPUT N2$\n",
    "50 PRINT \"WHAT IS YOUR AGE? :\";\n",
    "60 INPUT A1\n",
    "70 LET FULLNAME$ = N1$ + \" \" + N2$\n",
    "80 LET A2 = A1 + 10\n",
    "90 PRINT \"WELCOME, \" + FULLNAME$ \n",
    "100 PRINT \"IN 10 YEARS, YOU WILL BE \";\n",
    "110 PRINT A2\n",
    "```\n",
    "\n",
    "Note the short variable names. That was a limitation of BASIC back then — only the first two letters of a variable name mattered (remember, computers had as little as 4K of RAM back then!). As far as BASIC was concerned, `NAME1` and `NAME2` both refer to the same variable, `NA`.\n",
    "\n",
    "> You can try this code for yourself — paste it into an [online Applesoft BASIC emulator](https://www.calormen.com/jsbasic/) and run it.\n",
    "\n",
    "If you’ve been programming for at least a month or two, the COBOL, Python, and BASIC versions of the program should be somewhat understandable to you.\n",
    "\n",
    "Consider the top 10 programming languages (according to the [TIOBE Index](https://www.tiobe.com/tiobe-index/)). They all come from the ***previous millennium:***\n",
    "\n",
    "![](./images/top-ten-programming-languages.png)\n",
    "\n",
    "The average age of these languages — about 36 — makes them as old as half the entire history of programming. And yet, they’re the most referenced programming languages on the web!\n",
    "\n",
    "Some things to consider when looking at this list:\n",
    "\n",
    "* Assembly language is simply a slightly more human-friendly version of *machine language*, which is actually what computers understand. Where machine language is all numbers, assembly language represents instructions as short “words” — ADD, MUL, MOV, and so on — so that they’re easier for humans to comprehend.\n",
    "* C, the most popular programming language on the list, came out a year after the first microprocessor, 4 years before the first commercially-available desktop computer, the [Altair 8800](https://en.wikipedia.org/wiki/Altair_8800).\n",
    "* 6 out of these 10 languages pre-date the first modern web browser, [Mosaic,](https://en.wikipedia.org/wiki/Mosaic_(web_browser)) which came out in January 1993.\n",
    "* Java was supposed to end the Microsoft monopoly.\n",
    "* JavaScript was originally named LiveScript, but renamed “JavaScript” because its syntax was sort of like Java, and they wanted to capitalize on the Java name, which was the hottest thing in the programming world of 1995.\n",
    "* PHP wasn’t inteded to be a programming language, but a set of little C programs that Rasmus Lerdorf used to help maintain his personal webpage.\n",
    "* All these languages pre-date the modern smartphone, and only C# came after the BlackBerry.\n",
    "\n",
    "For comparison, here’s a text from the version of English from half the lifetime of English-speaking culture ago:\n",
    "\n",
    "![Woodcut of “The Miller’s Tale” by Chaucer](./images/millers-tale.jpg)\n",
    "\n",
    "It’s [*The Miller’s Tale*](https://www.sparknotes.com/lit/the-canterbury-tales/section7/) by [Geoffrey Chaucer,](https://en.wikipedia.org/wiki/Geoffrey_Chaucer) which is part of his [*Canterbury Tales,*](https://en.wikipedia.org/wiki/The_Canterbury_Tales) which he wrote in Middle English sometime in the last decade of the 1300s. I can’t understand a bit of it, but I’m told it’s a dirty, ribald story full of inappropriate grabbing, adulterous sex, farting in faces, and retaliatory red-hot pokers in places where they should not be. But I can’t tell from reading it!\n",
    "\n",
    "\n",
    "## What’s the point of all this prologue?\n",
    "\n",
    "I thought I’d be kind by not starting a first-thing-in-the-morning talk with something a little less technical, but still applicable.\n",
    "\n",
    "Here’s the point I’m trying to make: If you ever get frustrated with something while programming because you’re new at it, keep this in mind:\n",
    "\n",
    "**Programming is a field that isn’t even 75 years old yet. *We’re ALL new at this.***"
   ]
  },
  {
   "cell_type": "markdown",
   "metadata": {},
   "source": [
    "# Jupyter Notebook and JupyterLab\n",
    "\n",
    "## The notebooks of scientists, mathematicians, and madmen\n",
    "\n",
    "Mathematicians and scientists (and the predecessors of scientists, who were called *natural philosophers*), often kept notebooks that contained a mixture of:\n",
    "\n",
    "1. Their ideas and observations, in narrative form\n",
    "2. Diagrams and illustrations\n",
    "3. Data and calculations based on that data, in the form of tables, equations, graphs, and so on\n",
    "\n",
    "Here’s an example:\n",
    "\n",
    "![Computational essay](./images/computational-essay.png)\n",
    "\n",
    "There have been a few attempts at bringing these notebooks into the computer age. Stephen Wolfram calls these things computational essays, and [does a pretty good job explaining them in this article.](https://writings.stephenwolfram.com/2017/11/what-is-a-computational-essay/)\n",
    "\n",
    "One of these ways is **Jupyter Notebooks.**\n",
    "\n",
    "\n",
    "## What is a Jupyter notebook?\n",
    "\n",
    "![](./images/code-and-text.png)\n",
    "\n",
    "* You’re looking at one right now!\n",
    "* It’s tool for sharing knowledge and collaborating on research and other projects.\n",
    "* It lets you create documents that contain embedded code, all within the context of a web page\n",
    "* I like the way IBM puts it: Jupyter notebooks let you build a “computational narrative that distills data into insights.”\n",
    "\n",
    "![](./images/ju-py-ter.png)\n",
    "\n",
    "* The name ***Jupyter*** comes from three programming languages *Julia,* *Python,* and *R.*\n",
    "* Coding in Jupyter is supported by a number of kernels, which support many languages — not just Julia, Python, and R, but so many others, including C#, Go, Haskell, JavaScript, Java, Kotlin, Scala, Swift, Ruby, and 50+ other languages.\n",
    "* Python seems to be the most popular programming language for Jupyter notebook code, as it’s currently the darling of the data science world, and data science has been described as the [“the sexiest job of the 21st century”.](https://hbr.org/2012/10/data-scientist-the-sexiest-job-of-the-21st-century)\n",
    "\n",
    "\n",
    "## Who uses Jupyter notebooks?\n",
    "\n",
    "![](./images/intro-nobel.jpg)\n",
    "\n",
    "* [Paul Romer,](https://qz.com/1417145/economics-nobel-laureate-paul-romer-is-a-python-programming-convert/) [co-winner of the 2018 Nobel Prize in Economics*,](https://qz.com/1416867/the-2018-nobel-prize-in-economics-goes-to-william-nordhaus-and-paul-romer/) for one.\n",
    "* Yes, I know that the Nobel Prize in Economics [isn’t a “real” Nobel.](https://fivethirtyeight.com/features/the-economics-nobel-isnt-really-a-nobel/)\n",
    "\n",
    "![](./images/netflix-logo.png)\n",
    "\n",
    "* You may have heard of this cute little streaming video startup called Netflix.\n",
    "* They’re a heavily data-driven organization, and [wow, do they use Jupyter notebooks.](https://medium.com/netflix-techblog/notebook-innovation-591ee3221233)\n",
    "\n",
    "They’re also used by Google and Microsoft!\n",
    "\n",
    "![](./images/jupyter-google.png) ![](./images/jupyter-microsoft.png)\n",
    "\n",
    "\n",
    "## How do you install Jupyter Notebook?\n",
    "\n",
    "### Anaconda\n",
    "\n",
    "![](./images/anaconda-logo.png)\n",
    "\n",
    "The easiest way to get Jupyter Notebook on your own system is to install the [**Anaconda**](https://www.anaconda.com/download/) distribution of Python. Not only is it one of the better distributions, but it comes with Jupyter notebooks built in!\n",
    "\n",
    "### `pip`\n",
    "\n",
    "If you already have Python and its package installer program, **pip**, you can use **pip** to install Jupyter Notebook:\n",
    "\n",
    "```\n",
    "pip install notebook\n",
    "```\n",
    "\n",
    "## How do you run Jupyter Notebook?\n",
    "\n",
    "Enter the following command on **Terminal** (on Mac and Linux) or **Command Prompt** (on Windows):\n",
    "\n",
    "```\n",
    "jupyter notebook\n",
    "```\n"
   ]
  },
  {
   "cell_type": "markdown",
   "metadata": {},
   "source": [
    "# Password generator\n",
    "\n",
    "![](./images/my-password.jpg)"
   ]
  },
  {
   "cell_type": "code",
   "execution_count": 11,
   "metadata": {},
   "outputs": [
    {
     "data": {
      "application/vnd.jupyter.widget-view+json": {
       "model_id": "64f1baff1aab4fdcbef82b6faebf592e",
       "version_major": 2,
       "version_minor": 0
      },
      "text/plain": [
       "IntSlider(value=25, continuous_update=False, description='Password length:', max=50)"
      ]
     },
     "metadata": {},
     "output_type": "display_data"
    },
    {
     "data": {
      "application/vnd.jupyter.widget-view+json": {
       "model_id": "dedbf925b1094546856f4a01af97d7b5",
       "version_major": 2,
       "version_minor": 0
      },
      "text/plain": [
       "Checkbox(value=False, description='Uppercase letters', disabled=True, indent=False)"
      ]
     },
     "metadata": {},
     "output_type": "display_data"
    },
    {
     "data": {
      "application/vnd.jupyter.widget-view+json": {
       "model_id": "3dcce04413974153911b4dcaa4db4d79",
       "version_major": 2,
       "version_minor": 0
      },
      "text/plain": [
       "Checkbox(value=False, description='Lowercase letters', indent=False)"
      ]
     },
     "metadata": {},
     "output_type": "display_data"
    },
    {
     "data": {
      "application/vnd.jupyter.widget-view+json": {
       "model_id": "e1c0c4495aa84aac8c260d5e208e2ef3",
       "version_major": 2,
       "version_minor": 0
      },
      "text/plain": [
       "Checkbox(value=False, description='Digits', indent=False)"
      ]
     },
     "metadata": {},
     "output_type": "display_data"
    },
    {
     "data": {
      "application/vnd.jupyter.widget-view+json": {
       "model_id": "6c3dc091c3df4f618d4de675f18e21a1",
       "version_major": 2,
       "version_minor": 0
      },
      "text/plain": [
       "Checkbox(value=False, description='Punctuation', indent=False)"
      ]
     },
     "metadata": {},
     "output_type": "display_data"
    },
    {
     "data": {
      "application/vnd.jupyter.widget-view+json": {
       "model_id": "a429fe6e906c49888d5802b029814fd5",
       "version_major": 2,
       "version_minor": 0
      },
      "text/plain": [
       "Button(description='Generate password', style=ButtonStyle())"
      ]
     },
     "metadata": {},
     "output_type": "display_data"
    }
   ],
   "source": [
    "import ipywidgets as widgets  # This library lets Jupyter Notebooks draw UI widgets\n",
    "import string                 # This library provides some useful additional string functions and constants\n",
    "import random                 # This library provides random number generators\n",
    "\n",
    "\n",
    "MAXIMUM_PASSWORD_LENGTH = 50\n",
    "\n",
    "def define_slider():\n",
    "    return widgets.IntSlider(\n",
    "        value=int(MAXIMUM_PASSWORD_LENGTH / 2),\n",
    "        min=0,\n",
    "        max=MAXIMUM_PASSWORD_LENGTH,\n",
    "        step=1,\n",
    "        description='Password length:',\n",
    "        disabled=False,\n",
    "        continuous_update=False,\n",
    "        orientation='horizontal',\n",
    "        readout=True,\n",
    "        readout_format='d'\n",
    "    )\n",
    "\n",
    "def define_checkboxes():\n",
    "    return [\n",
    "        widgets.Checkbox(\n",
    "            value=False,\n",
    "            description='Uppercase letters',\n",
    "            disabled=True,\n",
    "            indent=False\n",
    "        ),\n",
    "        widgets.Checkbox(\n",
    "            value=False,\n",
    "            description='Lowercase letters',\n",
    "            disabled=False,\n",
    "            indent=False\n",
    "        ),\n",
    "        widgets.Checkbox(\n",
    "            value=False,\n",
    "            description='Digits',\n",
    "            disabled=False,\n",
    "            indent=False\n",
    "        ),\n",
    "        widgets.Checkbox(\n",
    "            value=False,\n",
    "            description='Punctuation',\n",
    "            disabled=False,\n",
    "            indent=False\n",
    "        )\n",
    "    ]\n",
    "\n",
    "def draw_checkboxes():\n",
    "    for checkbox in checkboxes:\n",
    "        display(checkbox)        \n",
    "\n",
    "def define_generate_password_button(generate_password_function):\n",
    "    button = widgets.Button(description=\"Generate password\")\n",
    "    button.on_click(generate_password_function)\n",
    "    return button\n",
    "    \n",
    "def generate_password(sender):\n",
    "    eligible_characters = \"\"\n",
    "    \n",
    "    # Guard statement:\n",
    "    # Don’t generate a password if NONE of the checkboxes are checked\n",
    "    if not(\n",
    "        uppercase_checkbox.value or \n",
    "        lowercase_checkbox.value or\n",
    "        digits_checkbox.value or\n",
    "        punctuation_checkbox.value\n",
    "    ):\n",
    "        return\n",
    "    \n",
    "    if uppercase_checkbox.value:\n",
    "        eligible_characters += string.ascii_uppercase\n",
    "    if lowercase_checkbox.value:\n",
    "        eligible_characters += string.ascii_lowercase\n",
    "    if digits_checkbox.value:\n",
    "        eligible_characters += string.digits\n",
    "    if punctuation_checkbox.value:\n",
    "        eligible_characters += string.punctuation\n",
    "        \n",
    "    password = \"\"\n",
    "    for character_index in range(0, slider.value - 1):\n",
    "        password += random.choice(eligible_characters)\n",
    "        \n",
    "    print(password)\n",
    "\n",
    "slider = define_slider()\n",
    "display(slider)\n",
    "\n",
    "checkboxes = define_checkboxes()\n",
    "uppercase_checkbox, lowercase_checkbox, digits_checkbox, punctuation_checkbox = checkboxes\n",
    "draw_checkboxes()\n",
    "\n",
    "generate_password_button = define_generate_password_button(generate_password)\n",
    "display(generate_password_button)"
   ]
  },
  {
   "cell_type": "markdown",
   "metadata": {},
   "source": [
    "# Generating my weekly “Tampa Bay Tech Events” list\n",
    "\n",
    "![](./images/tampa-bay-tech-events.jpg)\n",
    "\n",
    "![](./images/meetup-page.png)"
   ]
  },
  {
   "cell_type": "code",
   "execution_count": 13,
   "metadata": {},
   "outputs": [
    {
     "data": {
      "application/vnd.jupyter.widget-view+json": {
       "model_id": "9c504d7e169a42138d5797c237dac4e8",
       "version_major": 2,
       "version_minor": 0
      },
      "text/plain": [
       "DatePicker(value=None, description='Pick a Date')"
      ]
     },
     "metadata": {},
     "output_type": "display_data"
    },
    {
     "data": {
      "application/vnd.jupyter.widget-view+json": {
       "model_id": "a964f5eb455b4a33bfb0cc10a7accb70",
       "version_major": 2,
       "version_minor": 0
      },
      "text/plain": [
       "Button(description='Open Meetup Pages', style=ButtonStyle())"
      ]
     },
     "metadata": {},
     "output_type": "display_data"
    }
   ],
   "source": [
    "import webbrowser \n",
    "\n",
    "import ipywidgets as widgets\n",
    "from ipywidgets import Layout\n",
    "from IPython.display import display\n",
    "\n",
    "\n",
    "def open_meetup_pages(sender):\n",
    "    print(sender)\n",
    "    date = date_picker.value\n",
    "    \n",
    "    BASE_URL = 'https://www.meetup.com/find/us--fl--tampa'\n",
    "    CATEGORIES = [\n",
    "        'tech',\n",
    "        'education',\n",
    "        'writing',\n",
    "        'games-sci-fi',\n",
    "        'book-clubs',\n",
    "        'hobbies-crafts',\n",
    "        'career-business'\n",
    "    ]\n",
    "    url_date = f'{date.year}-{date.month:02d}-{date.day:02d}'\n",
    "    start_date_parameter = f'customStartDate={url_date}T00%3A00-05%3A00'\n",
    "    end_date_parameter = f'customEndDate={url_date}T23%3A59-05%3A00'\n",
    "    parameters = f'{start_date_parameter}&{end_date_parameter}&distance=hundredMiles'\n",
    "\n",
    "    for category in CATEGORIES:\n",
    "        url = f'{BASE_URL}/{category}/?{parameters}'\n",
    "        webbrowser.open_new_tab(url)\n",
    "\n",
    "date_picker = widgets.DatePicker(\n",
    "    description='Pick a Date',\n",
    "    disabled=False\n",
    ")\n",
    "display(date_picker)\n",
    "    \n",
    "\n",
    "button = widgets.Button(description=\"Open Meetup Pages\")\n",
    "display(button)\n",
    "button.on_click(open_meetup_pages)"
   ]
  },
  {
   "cell_type": "code",
   "execution_count": null,
   "metadata": {},
   "outputs": [],
   "source": [
    "import webbrowser \n",
    "\n",
    "from bs4 import BeautifulSoup\n",
    "import requests\n",
    "\n",
    "import time\n",
    "import ciso8601\n",
    "\n",
    "def get_meetup_info(url):\n",
    "    page = requests.get(url)\n",
    "    soup = BeautifulSoup(page.content, 'html.parser')\n",
    "    \n",
    "    try:\n",
    "        group_name = soup.find('div', class_='event-group-name').get_text().strip()\n",
    "        event_name = soup.find('h1', class_='pageHead-headline').get_text().strip()\n",
    "        start_time = soup.find('span', class_='eventTimeDisplay-startDate-time').get_text().strip()\n",
    "        end_time = soup.find('span', class_='eventTimeDisplay-endDate-partialTime').get_text().strip()\n",
    "        timestamp = soup.find('time', class_='')['datetime'].strip()\n",
    "        print(f\"Processed “{group_name} — {event_name}”.\")\n",
    "    except:\n",
    "        print(f\"Error processing {url}. Opening browser so you can see what’s up...\")\n",
    "        webbrowser.open_new_tab(url)\n",
    "        exit()\n",
    "        \n",
    "    return {\n",
    "        'text': f\"<li><a href=\\\"{url}\\\">{group_name} — {event_name} @ {start_time} to {end_time}</a></li>\",\n",
    "        'timestamp': timestamp\n",
    "    }\n",
    "\n",
    "\n",
    "def timestamp_from_eventbrite_time(eventbrite_time):\n",
    "    import datetime\n",
    "    start_time = datetime.datetime.fromisoformat(eventbrite_time)\n",
    "    return str(datetime.datetime.timestamp(start_time))\n",
    "\n",
    "def get_eventbrite_info(url):\n",
    "    page = requests.get(url)\n",
    "    soup = BeautifulSoup(page.content, \"html.parser\")\n",
    "    \n",
    "    try:\n",
    "        group_name = soup.find(\"a\", class_=\"listing-organizer-name\").get_text().strip()[3:]\n",
    "        event_name = soup.find(\"h1\", class_=\"listing-hero-title\").get_text().strip()\n",
    "        time = soup.find(\"p\", class_=\"js-date-time-second-line\").get_text().strip().replace(\"–\", \"to\", 1)\n",
    "        raw_timestamp = soup.find(\"meta\", property=\"event:start_time\")['content'].strip()\n",
    "        timestamp = timestamp_from_eventbrite_time(raw_timestamp)\n",
    "        print(f\"timestamp: {timestamp}\")\n",
    "        print(f\"Processed “{timestamp} : {group_name} — {event_name}”.\")\n",
    "    except:\n",
    "        print(f\"Error processing {url}. Opening browser so you can see what’s up...\")\n",
    "        webbrowser.open_new_tab(url)\n",
    "        exit()\n",
    "        \n",
    "    return {\n",
    "        \"text\": f\"<li><a href=\\\"{url}\\\">{group_name} — {event_name} @ {time}</a></li>\",\n",
    "        \"timestamp\": timestamp\n",
    "    }\n",
    "\n",
    "def get_info(url):\n",
    "    if 'https://www.meetup.com/' in url:\n",
    "        return get_meetup_info(url)\n",
    "    elif 'https://www.eventbrite.' in url:\n",
    "        return get_eventbrite_info(url)\n",
    "\n",
    "def urls_to_sorted_objects(urls):\n",
    "    meetup_objects = [get_info(url) for url in urls]\n",
    "    return sorted(meetup_objects, key=lambda item: item[\"timestamp\"])\n",
    "\n",
    "def print_list(urls):\n",
    "    unique_meetup_urls = list(set(urls))\n",
    "    meetup_objects = urls_to_sorted_objects(unique_meetup_urls)\n",
    "    print(\"\\n\\n\")\n",
    "    for meetup_object in meetup_objects:\n",
    "        print(meetup_object[\"text\"])\n",
    "        \n",
    "def create_list(sender):\n",
    "    urls = text_area.value.splitlines()\n",
    "    print_list(urls)\n",
    "        \n",
    "text_area = widgets.Textarea(\n",
    "    value='',\n",
    "    placeholder='Enter one URL per line',\n",
    "    description='URLs:',\n",
    "    disabled=False,\n",
    "    layout=Layout(width='80%')\n",
    ")\n",
    "display(text_area)\n",
    "\n",
    "create_list_button = widgets.Button(description=\"Create list\")\n",
    "create_list_button.on_click(create_list)\n",
    "display(create_list_button)"
   ]
  },
  {
   "cell_type": "markdown",
   "metadata": {},
   "source": [
    "# Recommended reading\n",
    "\n",
    "![](./images/automate-the-boring-stuff-with-python-2nd-ed-cover.jpg)\n",
    "\n",
    "A great way to expand on the material in this presentation is to read the book *Automate the Boring Stuff with Python,* because:\n",
    "\n",
    "1. It provides a nice quick overview of Python programming, and then\n",
    "2. It covers all sorts of automation topics...\n",
    "3. [...and you can read it **ONLINE FOR FREE!**](https://automatetheboringstuff.com/)"
   ]
  },
  {
   "cell_type": "code",
   "execution_count": null,
   "metadata": {},
   "outputs": [],
   "source": []
  }
 ],
 "metadata": {
  "kernelspec": {
   "display_name": "Python 3",
   "language": "python",
   "name": "python3"
  },
  "language_info": {
   "codemirror_mode": {
    "name": "ipython",
    "version": 3
   },
   "file_extension": ".py",
   "mimetype": "text/x-python",
   "name": "python",
   "nbconvert_exporter": "python",
   "pygments_lexer": "ipython3",
   "version": "3.8.5"
  }
 },
 "nbformat": 4,
 "nbformat_minor": 4
}
